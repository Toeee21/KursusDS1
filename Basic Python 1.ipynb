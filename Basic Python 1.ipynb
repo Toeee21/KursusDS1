{
 "cells": [
  {
   "cell_type": "markdown",
   "metadata": {
    "id": "xWhTksM2XV6N"
   },
   "source": [
    "<center>\n",
    "    <img src=\"https://drive.google.com/drive/folders/1NGXxMSwnmlXi2yjs2Vq-hoj61f0zmtz8\" width=\"1000\"/>\n",
    "</center>"
   ]
  },
  {
   "cell_type": "markdown",
   "metadata": {
    "id": "kmQJmnJyrPZW"
   },
   "source": [
    "# Tugas Mandiri 1\n",
    "---\n"
   ]
  },
  {
   "cell_type": "markdown",
   "metadata": {
    "id": "f_jx8NJtpngC"
   },
   "source": [
    "## Struktur Dasar Bahasa Pemrograman Python\n"
   ]
  },
  {
   "cell_type": "markdown",
   "metadata": {
    "id": "wQc2RRDTqN0r"
   },
   "source": [
    "<h2 id=\"rules\">Aturan Penulisan Pernyataan (<i>Statement</i>) dengan Python </h2>\n",
    "\n",
    "Pernyataan adalah instruksi atau kalimat perintah yang dapat dieksekusi oleh Python. Berikut adalah beberapa ketentuan mengenai pernyataan atau statement dalam Python. <br>Misalnya, <code>a = 1</code> adalah pernyataan tugas. Pernyataan <kbd>if</kbd>, pernyataan <kbd>for</kbd>, pernyataan <kbd>else</kbd>, etc adalah jenis pernyataan lain yang akan dibahas nanti."
   ]
  },
  {
   "cell_type": "markdown",
   "metadata": {
    "id": "92tz0TGCSd2H"
   },
   "source": [
    "\n",
    "\n",
    "<center>\n",
    "    <img src=\"https://drive.google.com/uc?export=view&id=1-RMelrmuuCeqChJDNq-ipUzD9k0TwNqQ\" />\n",
    "</center>"
   ]
  },
  {
   "cell_type": "markdown",
   "metadata": {
    "id": "Kyi7ukgQjeMI"
   },
   "source": [
    "# Tugas - Python basic Statement"
   ]
  },
  {
   "cell_type": "code",
   "execution_count": 1,
   "metadata": {
    "id": "BmvFq8k0qvXM"
   },
   "outputs": [
    {
     "name": "stdout",
     "output_type": "stream",
     "text": [
      "Universitas Gunadarma\n"
     ]
    }
   ],
   "source": [
    "# Latihan  : Isi BLANK!\n",
    "# -----------------------------------------------------------#\n",
    "\n",
    "# 1. Tetapkan variabel 'C' dengan nilai 129\n",
    "C = 129\n",
    "\n",
    "# 2. Deklarasikan variabel 'X' dengan nilai desimal\n",
    "X = 5.14\n",
    "\n",
    "\n",
    "# 3. Cetak tulisan 'Universitas Gunadarma'\n",
    "print('Universitas Gunadarma')"
   ]
  },
  {
   "cell_type": "markdown",
   "metadata": {
    "id": "klxpa6oJjkRW"
   },
   "source": [
    "## Tugas - Deklarasi List"
   ]
  },
  {
   "cell_type": "code",
   "execution_count": 2,
   "metadata": {
    "colab": {
     "base_uri": "https://localhost:8080/"
    },
    "id": "_56v5L6KuLCy",
    "outputId": "60e898f6-2bbd-4448-fcd7-d814f31069c0"
   },
   "outputs": [
    {
     "name": "stdout",
     "output_type": "stream",
     "text": [
      "['Senin', 'Selasa', 'Rabu', 'Kamis', 'Jumat', 'Sabtu', 'Minggu']\n"
     ]
    }
   ],
   "source": [
    "# Latihan : Isi <...>!\n",
    "# -------------------------------------------------- --------#\n",
    "# 4. Deklarasikan variabel yang disebut 'Hari' dan masukkan nama hari dalam seminggu\n",
    "Hari = ['Senin', 'Selasa', 'Rabu', 'Kamis', 'Jumat', 'Sabtu', 'Minggu']\n",
    "print(Hari)"
   ]
  },
  {
   "cell_type": "markdown",
   "metadata": {
    "id": "22D0UUXKv5lF"
   },
   "source": [
    "## Tugas - String Multiline\n",
    "\n",
    "Buat variabel yang disebut <code>'nama_lengkap'</code> dengan isi nama anda dan <code>'bio'</code> isi dengan bio singkat Anda!\n",
    "\n",
    "**Catatan** : untuk nilai Bio gunakan tanda petik tiga (''')"
   ]
  },
  {
   "cell_type": "code",
   "execution_count": 1,
   "metadata": {
    "id": "QuId6niX_Ljn"
   },
   "outputs": [
    {
     "name": "stdout",
     "output_type": "stream",
     "text": [
      "Alvito Hafizh Putra Haryanto\n",
      "Apapun yang terjadi tetaplah hidup\n"
     ]
    }
   ],
   "source": [
    "# 5. Tambahkan kode di bawah ini\n",
    "nama_lengkap = \"Alvito Hafizh Putra Haryanto\"\n",
    "bio = \"\"\"Apapun yang terjadi tetaplah hidup\"\"\"\n",
    "\n",
    "print(nama_lengkap)\n",
    "print(bio)"
   ]
  },
  {
   "cell_type": "markdown",
   "metadata": {
    "id": "iPVcTRTbkSV3"
   },
   "source": [
    "## Tugas - Variable Name"
   ]
  },
  {
   "cell_type": "code",
   "execution_count": 4,
   "metadata": {
    "id": "-nzwnUBJ0ng9"
   },
   "outputs": [],
   "source": [
    "# Latihan  : Perbaiki KODE!\n",
    "# -------------------------------------------------- --------#\n",
    "# 6. Perbaiki variabel di bawah ini menjadi BENAR!\n",
    "\n",
    "nama_saya = 'Ismail'\n",
    "JenisKelamin = 'Laki-laki'\n",
    "Break = 'Sukses'\n"
   ]
  },
  {
   "cell_type": "markdown",
   "metadata": {
    "id": "pXXZC5HvkjHw"
   },
   "source": [
    "## Tugas - Data Type (Int)"
   ]
  },
  {
   "cell_type": "code",
   "execution_count": 5,
   "metadata": {
    "id": "pLKGHc4M88so"
   },
   "outputs": [
    {
     "name": "stdout",
     "output_type": "stream",
     "text": [
      "<class 'int'>\n",
      "<class 'int'>\n"
     ]
    }
   ],
   "source": [
    "# Isi bagian yang kosong!\n",
    "# ---------------------------------------------------------#\n",
    "# 7. Deklarasikan  2 variabel dengan tipe data INTEGER dan cek tipe datanya menggunakan\n",
    "# fungsi type()\n",
    "\n",
    "positif = 10  # Bilangan Positif\n",
    "negatif = -5  # Bilangan Negatif\n",
    "\n",
    "print(type(positif))\n",
    "print(type(negatif))\n",
    "\n"
   ]
  },
  {
   "cell_type": "markdown",
   "metadata": {
    "id": "lkcr4NUek1Te"
   },
   "source": [
    "## Tugas - Data Type (Float)"
   ]
  },
  {
   "cell_type": "code",
   "execution_count": 6,
   "metadata": {
    "id": "vhgl1aOV9374"
   },
   "outputs": [
    {
     "name": "stdout",
     "output_type": "stream",
     "text": [
      "<class 'float'>\n",
      "<class 'float'>\n",
      "<class 'float'>\n"
     ]
    }
   ],
   "source": [
    "# Latihan : Isi bagian yang kosong!\n",
    "# ---------------------------------------------------------#\n",
    "# 8. Deklarasikan 3 variabel tipe data FLOAT dengan nilai BERBEDA kemudian CEK tipe datanya dengan fungsi type()\n",
    "\n",
    "float1 = 3.14\n",
    "float2 = 2.718\n",
    "float3 = 6.66\n",
    "\n",
    "print(type(float1))\n",
    "print(type(float2))\n",
    "print(type(float3))\n"
   ]
  },
  {
   "cell_type": "markdown",
   "metadata": {
    "id": "yGN4LSG_lW82"
   },
   "source": [
    "## Tugas - Python Indexing\n",
    "\n",
    "Buat sebuah python <code>list</code> dengan berisikan nama-nama mobil sebagai berikut :  \n",
    "-  Toyota\n",
    "-  Honda\n",
    "-  Ford\n",
    "-  Chevrolet\n",
    "-  BMW\n",
    "-  Mercedes-Benz\n",
    "-  Audi\n",
    "-  Volkswagen\n",
    "-  Nissan\n",
    "-  Hyundai"
   ]
  },
  {
   "cell_type": "code",
   "execution_count": 7,
   "metadata": {
    "id": "JFWMV_WslS7_"
   },
   "outputs": [
    {
     "name": "stdout",
     "output_type": "stream",
     "text": [
      "Volkswagen\n",
      "Hyundai\n"
     ]
    }
   ],
   "source": [
    "# Latihan : Isi bagian yang kosong!\n",
    "# 9. Deklarasikan variabel mobil dengan nama-nama mobil diatas dengan format list\n",
    "mobil = ['Toyota', 'Honda', 'Ford', 'Chevrolet', 'BMW', 'Mercedes-Benz', 'Audi', 'Volkswagen', 'Nissan', 'Hyundai']\n",
    "\n",
    "# Positive Indexing\n",
    "# 10. Hasilkan output mobil 'Volkswagen'\n",
    "print(mobil[7])\n",
    "\n",
    "# Negative Indexing\n",
    "# 11. Hasilkan output mobil 'Hyundai'\n",
    "print(mobil[-1])"
   ]
  },
  {
   "cell_type": "markdown",
   "metadata": {
    "id": "8nBfFvoZqv1o"
   },
   "source": [
    "## Operasi Aritmatika"
   ]
  },
  {
   "cell_type": "code",
   "execution_count": 8,
   "metadata": {
    "id": "04x8kqdlFmjt"
   },
   "outputs": [
    {
     "name": "stdout",
     "output_type": "stream",
     "text": [
      "5.0\n",
      "42\n",
      "1000\n",
      "65\n"
     ]
    }
   ],
   "source": [
    "# Latihan Kecil : Isi bagian yang kosong!\n",
    "# -------------------------------------------------- --------#\n",
    "# 12. Bagi 15 dengan 3 dan CETAK hasilnya\n",
    "a = 15 / 3\n",
    "print(a)\n",
    "\n",
    "# 13. Jumlahkan 39 dengan 3 dan CETAK hasilnya\n",
    "b = 39 + 3\n",
    "print(b)\n",
    "\n",
    "# 14. 10 pangkat 3 dan CETAK hasilnya\n",
    "c = 10 ** 3\n",
    "print(c)\n",
    "\n",
    "# 15. Jumlahkan 10 dengan 3 lalu Kalikan dengan 5 dan CETAK hasilnya\n",
    "e = (10 + 3) * 5\n",
    "print(e)"
   ]
  },
  {
   "cell_type": "markdown",
   "metadata": {
    "id": "NM_jeqPRab4P"
   },
   "source": [
    "## Referensi\n",
    "*   https://www.programiz.com/python-programming/statement-indentation-comments\n",
    "*   https://www.tutorialsteacher.com/python/python-number-type#:~:text=In%20Python%2C%20integers%20are%20zero,valid%20integer%20literals%20in%20Python.&text=Integers%20can%20be%20binary%2C%20octal%2C%20and%20hexadecimal%20values.&text=All%20integer%20literals%20or%20variables%20are%20objects%20of%20the%20int%20class.\n",
    "*   https://realpython.com/python-data-types/#strings\n",
    "* https://www.w3schools.com/python/python_operators.asp"
   ]
  },
  {
   "cell_type": "markdown",
   "metadata": {
    "id": "KG-JWuNqnMbW"
   },
   "source": [
    "\n",
    "\n",
    "---\n",
    "\n",
    "\n",
    "Copyright ©2024 by Tim Pengembangan DGX, Universitas Gunadarma\n",
    "\n",
    "\n",
    "https://www.hpc-hub.gunadarma.ac.id/"
   ]
  }
 ],
 "metadata": {
  "colab": {
   "provenance": []
  },
  "kernelspec": {
   "display_name": "Python 3 (ipykernel)",
   "language": "python",
   "name": "python3"
  },
  "language_info": {
   "codemirror_mode": {
    "name": "ipython",
    "version": 3
   },
   "file_extension": ".py",
   "mimetype": "text/x-python",
   "name": "python",
   "nbconvert_exporter": "python",
   "pygments_lexer": "ipython3",
   "version": "3.11.5"
  }
 },
 "nbformat": 4,
 "nbformat_minor": 1
}
